{
 "cells": [
  {
   "cell_type": "markdown",
   "metadata": {},
   "source": [
    "# Random Forest"
   ]
  },
  {
   "cell_type": "markdown",
   "metadata": {},
   "source": [
    "RF(Random Forest) is an Algorithm used for making predictions specially in supervised learning. It's an Extension of the Decision tree algorithm. \n",
    "\n",
    "In RF algo, we use many different decision trees, working parallely to provide better result than a single decision tree.\n",
    "\n",
    "There is a concept of weak learners and strong learners, where weak learners are those who make a lots of mistakes and give a bad result and strong learners are those which makes less mistakes and provide a good predictions. In RF, we use them both of them because research show that when many weak learning decision tree works together, they apparently produce better results."
   ]
  },
  {
   "cell_type": "markdown",
   "metadata": {},
   "source": [
    "![title](1-i0o8mjFfCn-uD79-F1Cqkw.png)"
   ]
  },
  {
   "cell_type": "markdown",
   "metadata": {},
   "source": [
    "Q1. What is the problem with Decision Tree Algo?\n",
    "\n",
    "Ans. Decision Tree works on the best split method at each level, and because of that it can be greedy some times,\n",
    "     specially with large amount of data. When the data is large, it is very much possible that it can have a \n",
    "     large variance, which can easily fool the best split method."
   ]
  },
  {
   "cell_type": "markdown",
   "metadata": {},
   "source": [
    "Q2. What is the difference between Bagging Decision Tree and Random Forest?\n",
    "\n",
    "Ans. In the case of Bagging Decision Tree, we take the samples of training values, But in the case of Random Forest we also\n",
    "     use the bagging on the attributes without replacement. This method is used in Random Forest, so that we can also \n",
    "     get an idea which set of attributes are most effective."
   ]
  },
  {
   "cell_type": "markdown",
   "metadata": {},
   "source": [
    "# Working of Random Forest"
   ]
  },
  {
   "cell_type": "markdown",
   "metadata": {},
   "source": [
    "Some of the early steps of RF are similar to Decision Tree, like splitting, use of gini index, etc., so I will going to explain the steps different from decison tree.\n",
    "\n",
    "Firstly, bagging of input values and attributes will be done so that no two trees will be same. Every bag will have its own decision tree."
   ]
  },
  {
   "cell_type": "markdown",
   "metadata": {},
   "source": [
    "Secondly, split function will be used on every single bag of data and predictions will be made and the results will be recorded say, in a list.\n",
    "\n",
    "Thirdly, the value with the majority voting of all the results will be our prediction percentage."
   ]
  },
  {
   "cell_type": "markdown",
   "metadata": {},
   "source": [
    "# References"
   ]
  },
  {
   "cell_type": "markdown",
   "metadata": {},
   "source": [
    "--> https://machinelearningmastery.com/implement-random-forest-scratch-python/\n",
    "\n",
    "--> https://medium.com/@williamkoehrsen/random-forest-simple-explanation-377895a60d2d"
   ]
  },
  {
   "cell_type": "code",
   "execution_count": null,
   "metadata": {},
   "outputs": [],
   "source": []
  }
 ],
 "metadata": {
  "kernelspec": {
   "display_name": "Python 3",
   "language": "python",
   "name": "python3"
  },
  "language_info": {
   "codemirror_mode": {
    "name": "ipython",
    "version": 3
   },
   "file_extension": ".py",
   "mimetype": "text/x-python",
   "name": "python",
   "nbconvert_exporter": "python",
   "pygments_lexer": "ipython3",
   "version": "3.5.4"
  }
 },
 "nbformat": 4,
 "nbformat_minor": 2
}
